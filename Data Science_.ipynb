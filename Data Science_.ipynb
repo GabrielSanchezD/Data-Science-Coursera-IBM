{
 "cells": [
  {
   "cell_type": "markdown",
   "id": "7d2f4b69-6d78-46e1-aefd-cf73c33023c1",
   "metadata": {},
   "source": [
    "# Data Science Tools and Ecosystem"
   ]
  },
  {
   "cell_type": "markdown",
   "id": "35c97b35-e844-44fd-bb41-aa365f1270aa",
   "metadata": {},
   "source": [
    "In this notebook, Data Science Tools and Ecosystem are summarized.\n"
   ]
  },
  {
   "cell_type": "markdown",
   "id": "a42b3678-c744-48c0-8001-5269a7e553b0",
   "metadata": {},
   "source": [
    "**Objectives**\n",
    "* Identifying main coding lenguajes\n",
    "* Mention the main libraries used within this lenguajes\n",
    "* Listing the main Data Science Tools\n",
    "* Showing how to make simple mathmathical operations\n",
    "  \n"
   ]
  },
  {
   "cell_type": "markdown",
   "id": "5a325168-1d9a-4143-bafa-87b7394254f4",
   "metadata": {},
   "source": [
    "Some of the popular languages that Data Scientists use are:\n",
    "1. Python\n",
    "2. R\n",
    "3. SQL"
   ]
  },
  {
   "cell_type": "markdown",
   "id": "ce584e2a-4b8d-4fb5-8daa-d69a2ec4c8a9",
   "metadata": {},
   "source": [
    "Some of the commonly used libraries used by Data Scientists include:\n",
    "* plotly\n",
    "* pandas\n",
    "* matlib"
   ]
  },
  {
   "cell_type": "markdown",
   "id": "b0f2ad0f-5026-41d5-9c25-bb9af70ff431",
   "metadata": {},
   "source": [
    "| Data Science Tools |\n",
    "|--------- |\n",
    "| Anaconda |\n",
    "| Jupyter Notebooks |\n",
    "| R Studio |"
   ]
  },
  {
   "cell_type": "markdown",
   "id": "1d4cf56c-1082-4042-b8c8-d183a3dbb112",
   "metadata": {},
   "source": [
    "### Below are a few examples of evaluating arithmetic expressions in Python.\n"
   ]
  },
  {
   "cell_type": "code",
   "execution_count": 20,
   "id": "0004e488-6143-43b9-9740-0d2ca9a7667c",
   "metadata": {},
   "outputs": [
    {
     "data": {
      "text/plain": [
       "17"
      ]
     },
     "execution_count": 20,
     "metadata": {},
     "output_type": "execute_result"
    }
   ],
   "source": [
    "# This a simple arithmetic expression to mutiply then add integers\n",
    "(3*4)+5"
   ]
  },
  {
   "cell_type": "code",
   "execution_count": 23,
   "id": "953e8558-31d8-41a7-b245-f966b113fade",
   "metadata": {},
   "outputs": [
    {
     "name": "stdout",
     "output_type": "stream",
     "text": [
      "3.3333333333333335\n"
     ]
    }
   ],
   "source": [
    "# This will convert 200 minutes to hours by diving by 60.\n",
    "minutes = 200\n",
    "hours = (minutes/60)\n",
    "print (hours)"
   ]
  },
  {
   "cell_type": "code",
   "execution_count": 30,
   "id": "7d9a1f96-793b-4bdb-9ed3-e5c627310886",
   "metadata": {},
   "outputs": [
    {
     "ename": "SyntaxError",
     "evalue": "invalid syntax (2337356964.py, line 2)",
     "output_type": "error",
     "traceback": [
      "\u001b[0;36m  Cell \u001b[0;32mIn[30], line 2\u001b[0;36m\u001b[0m\n\u001b[0;31m    Gabriel Sánchez Donoso\u001b[0m\n\u001b[0m            ^\u001b[0m\n\u001b[0;31mSyntaxError\u001b[0m\u001b[0;31m:\u001b[0m invalid syntax\n"
     ]
    }
   ],
   "source": [
    "## Author\n",
    "Gabriel Sánchez Donoso"
   ]
  }
 ],
 "metadata": {
  "kernelspec": {
   "display_name": "Python 3 (ipykernel)",
   "language": "python",
   "name": "python3"
  },
  "language_info": {
   "codemirror_mode": {
    "name": "ipython",
    "version": 3
   },
   "file_extension": ".py",
   "mimetype": "text/x-python",
   "name": "python",
   "nbconvert_exporter": "python",
   "pygments_lexer": "ipython3",
   "version": "3.12.4"
  }
 },
 "nbformat": 4,
 "nbformat_minor": 5
}
