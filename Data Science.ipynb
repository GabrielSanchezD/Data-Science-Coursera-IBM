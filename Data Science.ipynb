{
 "cells": [
  {
   "cell_type": "markdown",
   "id": "820afdb7-b6fa-4197-b1a7-5c974641bf82",
   "metadata": {},
   "source": [
    "# Data Science Tools and Ecosystem"
   ]
  },
  {
   "cell_type": "markdown",
   "id": "9bc4e87a-6fe5-4985-a15c-46cd9956ebdf",
   "metadata": {},
   "source": [
    "In this notebook, Data Science Tools and Ecosystem are summarized.\n"
   ]
  },
  {
   "cell_type": "markdown",
   "id": "e61912dc-c41d-4459-a2b2-b8f8f3c0a3a3",
   "metadata": {},
   "source": [
    "**Objectives**\n",
    "* Identifying main coding lenguajes\n",
    "* Mention the main libraries used within this lenguajes\n",
    "* Listing the main Data Science Tools\n",
    "* Showing how to make simple mathmathical operations\n",
    "  \n"
   ]
  },
  {
   "cell_type": "markdown",
   "id": "cccfd483-2f35-4624-baa4-79075feae1e7",
   "metadata": {},
   "source": [
    "Some of the popular languages that Data Scientists use are:\n",
    "1. Python\n",
    "2. R\n",
    "3. SQL"
   ]
  },
  {
   "cell_type": "markdown",
   "id": "6e2a2297-9164-4eaf-af1e-da8dd33919d4",
   "metadata": {},
   "source": [
    "Some of the commonly used libraries used by Data Scientists include:\n",
    "* plotly\n",
    "* pandas\n",
    "* matlib"
   ]
  },
  {
   "cell_type": "markdown",
   "id": "c1523f0b-1c7f-4c88-bc66-7415068fedc5",
   "metadata": {},
   "source": [
    "| Data Science Tools |\n",
    "|--------- |\n",
    "| Anaconda |\n",
    "| Jupyter Notebooks |\n",
    "| R Studio |"
   ]
  },
  {
   "cell_type": "markdown",
   "id": "7d31264f-33d7-4ec6-b9c7-d6ba5c80cfb4",
   "metadata": {},
   "source": [
    "### Below are a few examples of evaluating arithmetic expressions in Python.\n"
   ]
  },
  {
   "cell_type": "code",
   "execution_count": 12,
   "id": "b1312ed0-3b9a-482c-906d-092fe0ea033c",
   "metadata": {},
   "outputs": [
    {
     "data": {
      "text/plain": [
       "17"
      ]
     },
     "execution_count": 12,
     "metadata": {},
     "output_type": "execute_result"
    }
   ],
   "source": [
    "# This a simple arithmetic expression to mutiply then add integers\n",
    "(3*4)+5"
   ]
  },
  {
   "cell_type": "code",
   "execution_count": 14,
   "id": "7a203355-cc19-4466-8f09-f2144d9d2bc7",
   "metadata": {},
   "outputs": [
    {
     "name": "stdout",
     "output_type": "stream",
     "text": [
      "3.3333333333333335\n"
     ]
    }
   ],
   "source": [
    "# This will convert 200 minutes to hours by diving by 60.\n",
    "minutes = 200\n",
    "hours = (minutes/60)\n",
    "print (hours)"
   ]
  },
  {
   "cell_type": "markdown",
   "id": "90c2e516-6722-4d5e-9417-a939896a1cb6",
   "metadata": {},
   "source": [
    "## Author\n",
    "Gabriel Sánchez Donoso"
   ]
  }
 ],
 "metadata": {
  "kernelspec": {
   "display_name": "Python 3 (ipykernel)",
   "language": "python",
   "name": "python3"
  },
  "language_info": {
   "codemirror_mode": {
    "name": "ipython",
    "version": 3
   },
   "file_extension": ".py",
   "mimetype": "text/x-python",
   "name": "python",
   "nbconvert_exporter": "python",
   "pygments_lexer": "ipython3",
   "version": "3.12.4"
  }
 },
 "nbformat": 4,
 "nbformat_minor": 5
}
